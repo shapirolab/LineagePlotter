{
 "cells": [
  {
   "cell_type": "code",
   "execution_count": null,
   "id": "f9d47f57",
   "metadata": {},
   "outputs": [],
   "source": [
    "source(\"yaara7.r\")"
   ]
  },
  {
   "cell_type": "code",
   "execution_count": null,
   "id": "f7d834cf",
   "metadata": {},
   "outputs": [],
   "source": [
    "#conf_yaml_path <- \"/home/dcsoft/s/yaara/configure yaml/configure MM15-127 cnv NEW snps3.yml\"\n",
    "#conf_yaml_path <- \"/home/dcsoft/s/yaara/configure yaml/configure MM16-412 cnv NEW.yml\"\n",
    "#conf_yaml_path <- \"/home/dcsoft/s/yaara/configure yaml/configure MM16-423 cnv NEW.yml\"\n",
    "#conf_yaml_path <- \"/home/dcsoft/s/yaara/configure yaml/configure BC14-2680 cnv NEW.yml\"\n",
    "#conf_yaml_path <- \"/home/dcsoft/s/yaara/configure yaml/configure BC15-0267 cnv NEW.yml\"\n",
    "#conf_yaml_path <- \"/home/dcsoft/s/yaara/configure yaml/configure BC16-0401 cnv NEW.yml\"\n",
    "#conf_yaml_path <- \"/home/dcsoft/s/yaara/configure yaml/configure BC16-0545 cnv NEW.yml\"\n",
    "#conf_yaml_path <- \"/home/dcsoft/s/yaara/configure yaml/configure 775-13 cnv NEW.yml\"\n",
    "\n",
    "#775-13 MM15-127 MM16-412 MM16-423 BC14-2680 BC15-0267 BC15-207 BC16-0401 BC16-0545\n",
    "#conf_yaml_path <- \"/home/dcsoft/s/yaara/configure yaml/configure MM16-423 cnv NEW snps3.yml\"\n",
    "#conf_yaml_path <- \"/home/dcsoft/s/yaara/configure yaml/configure MM16-412 cnv NEW snps3.yml\"\n",
    "\n",
    "#conf_yaml_path <- \"/home/dcsoft/s/yaara/configure yaml/configure MM15-127 cnv NEW snps4.yml\"\n",
    "#conf_yaml_path <- \"/home/dcsoft/s/yaara/configure yaml/configure MM16-423 cnv NEW snps4.yml\"\n",
    "#conf_yaml_path <- \"/home/dcsoft/s/yaara/configure yaml/configure MM16-412 cnv NEW snps4.yml\"\n",
    "\n",
    "#conf_yaml_path <- \"/home/dcsoft/s/yaara/configure yaml/configure karl 1.yml\"\n",
    "#conf_yaml_path <- \"/home/dcsoft/s/yaara/configure yaml/configure 795-09 cnv snps1.yml\"\n",
    "#conf_yaml_path <- \"/home/dcsoft/s/yaara/configure yaml/configure MM15-127 cnv NEW snps5.yml\"\n",
    "\n",
    "#conf_yaml_path <- \"/home/dcsoft/s/yaara/configure yaml/configure MM15-127 cnv NEW snps with new cells.yml\"\n",
    "\n",
    "#conf_yaml_path <- \"/home/dcsoft/s/yaara/configure yaml/configure 440 new a4.yml\"\n",
    "#conf_yaml_path <- \"/home/dcsoft/s/yaara/configure yaml/configure 465 new.yml\"\n",
    "\n",
    "#conf_yaml_path <- \"/home/dcsoft/s/yaara/configure yaml/configure BC14-2680 cnv NEW a4.yml\"\n",
    "#conf_yaml_path <- \"/home/dcsoft/s/yaara/configure yaml/configure BC15-0267 cnv NEW a4.yml\"\n",
    "#conf_yaml_path <- \"/home/dcsoft/s/yaara/configure yaml/configure BC16-0545cnv NEW a4.yml\"\n",
    "#conf_yaml_path <- \"/home/dcsoft/s/yaara/configure yaml/configure 795-09 cnv NEW a4.yml\"\n",
    "\n",
    "# conf_yaml_path <- \"/home/ofirr/s/Ofir/yamls/configure 795-09 cnv NEW a4.yml\"\n",
    "conf_yaml_path <- \"/home/ofirr/s/Ofir/yamls/configure BC15-0267 cnv NEW a4.yml\"\n",
    "# conf_yaml_path <- \"/home/ofirr/s/Ofir/yamls/configure MM15-127 cnv NEW a4.yml\""
   ]
  },
  {
   "cell_type": "code",
   "execution_count": null,
   "id": "3156eed6",
   "metadata": {},
   "outputs": [],
   "source": [
    "#frame parameters\n",
    "#for 230\n",
    "#width <- 80\n",
    "#height <- 40\n",
    "\n",
    "#for 465\n",
    "width <- 170*3\n",
    "height <- 60*3\n",
    "\n",
    "#for 440\n",
    "#width <- 100\n",
    "#height <- 50\n",
    "\n",
    "#for eye\n",
    "#width <- 60\n",
    "#height <-25\n",
    "\n",
    "# for MM15-127\n",
    "#width <- 430\n",
    "#height <- 250\n",
    "\n",
    "# for karolinska big\n",
    "#width <- 9000\n",
    "#height <- 200\n",
    "\n",
    "#width <- 220\n",
    "#height <- 120"
   ]
  },
  {
   "cell_type": "code",
   "execution_count": null,
   "id": "ab9bb072",
   "metadata": {},
   "outputs": [],
   "source": [
    "id_tip_trim_flag <- TRUE\n",
    "id_tip_prefix <- \"ID\"\n",
    "id_tip_trim_start <- 3\n",
    "id_tip_trim_end <-7\n",
    "man_multiply_second_legend <- 0.54 #2.5\n",
    "man_multiply_second_legend_text <-3\n",
    "man_multiply_first_legend_text <-1 #6\n",
    "man_multiply_first_legend_title_size <- 2\n",
    "man_space_second_legend = 10\n",
    "man_space_second_legend_multiplier=0.1\n",
    "man_offset_for_highlight_legend_x=-6\n",
    "a_4_output<- TRUE\n",
    "man_adjust_image_of_second_legend <- 1.8"
   ]
  },
  {
   "cell_type": "code",
   "execution_count": null,
   "id": "d9c9364e",
   "metadata": {},
   "outputs": [],
   "source": [
    "out <- func.print.lineage.tree(conf_yaml_path,simulate.p.value=FALSE,\n",
    "                               height= height,width = width, \n",
    "                               man_adjust_image_of_second_legend=man_adjust_image_of_second_legend, man_adj_heat_loc = 0,\n",
    "                               man_boot_x_offset= 0.025,man_adj_heat_loc2=3, man_adj_heat_loc3=6,\n",
    "                               id_tip_trim_flag= id_tip_trim_flag, \n",
    "                               id_tip_trim_start= id_tip_trim_start,\n",
    "                               id_tip_trim_end=id_tip_trim_end,\n",
    "                               id_tip_prefix = id_tip_prefix,\n",
    "                               debug_mode=FALSE,\n",
    "                               debug_print_data_tree= FALSE,\n",
    "                               man_multiply_second_legend= man_multiply_second_legend,\n",
    "                               man_multiply_second_legend_text= man_multiply_second_legend_text,\n",
    "                               man_adjust_elipse=0.25, #11.05\n",
    "                               man_multiply_elipse=14.5,\n",
    "                               man_multiply_first_legend_text= man_multiply_first_legend_text,\n",
    "                               man_multiply_first_legend_title_size= man_multiply_first_legend_title_size,\n",
    "                               man_space_second_legend=man_space_second_legend,\n",
    "                               man_space_second_legend_multiplier=man_space_second_legend_multiplier,\n",
    "                               man_offset_for_highlight_legend_x = man_offset_for_highlight_legend_x,\n",
    "                               a_4_output= a_4_output)\n"
   ]
  }
 ],
 "metadata": {
  "kernelspec": {
   "display_name": "R yaara",
   "language": "R",
   "name": "ir4.1.3"
  },
  "language_info": {
   "codemirror_mode": "r",
   "file_extension": ".r",
   "mimetype": "text/x-r-source",
   "name": "R",
   "pygments_lexer": "r",
   "version": "4.1.3"
  },
  "latex_envs": {
   "LaTeX_envs_menu_present": true,
   "autoclose": false,
   "autocomplete": true,
   "bibliofile": "biblio.bib",
   "cite_by": "apalike",
   "current_citInitial": 1,
   "eqLabelWithNumbers": true,
   "eqNumInitial": 1,
   "hotkeys": {
    "equation": "Ctrl-E",
    "itemize": "Ctrl-I"
   },
   "labels_anchors": false,
   "latex_user_defs": false,
   "report_style_numbering": false,
   "user_envs_cfg": false
  }
 },
 "nbformat": 4,
 "nbformat_minor": 5
}
